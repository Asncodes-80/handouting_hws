{
 "cells": [
  {
   "cell_type": "markdown",
   "metadata": {},
   "source": [
    "# Alireza Soltani Neshan 98111033302016\n",
    "## Data Structure\n",
    "### Course code 23032"
   ]
  },
  {
   "cell_type": "markdown",
   "metadata": {},
   "source": [
    "# Selection Sorting"
   ]
  },
  {
   "cell_type": "code",
   "execution_count": 15,
   "metadata": {},
   "outputs": [],
   "source": [
    "def selectionSorting(arr):\n",
    "    for i in range(len(arr)-1, 0, -1):\n",
    "        max_i = 0\n",
    "        max_v = 0\n",
    "        for j in range(i):\n",
    "            if arr[j] > max_v:\n",
    "                max_v = arr[j]\n",
    "                max_i = j\n",
    "        if arr[i] < max_v:\n",
    "            arr[i], arr[max_i] = arr[max_i], arr[i]\n",
    "\n",
    "    return arr"
   ]
  },
  {
   "cell_type": "code",
   "execution_count": 16,
   "metadata": {},
   "outputs": [],
   "source": [
    "data = [11, 33, 55, 22, 92, 44]"
   ]
  },
  {
   "cell_type": "code",
   "execution_count": 17,
   "metadata": {},
   "outputs": [
    {
     "data": {
      "text/plain": [
       "[11, 22, 33, 44, 55, 92]"
      ]
     },
     "execution_count": 17,
     "metadata": {},
     "output_type": "execute_result"
    }
   ],
   "source": [
    "selectionSorting(data)"
   ]
  },
  {
   "cell_type": "markdown",
   "metadata": {},
   "source": [
    "   "
   ]
  },
  {
   "cell_type": "markdown",
   "metadata": {},
   "source": [
    "# Bubble Sorting "
   ]
  },
  {
   "cell_type": "code",
   "execution_count": 5,
   "metadata": {},
   "outputs": [],
   "source": [
    "def bubbleSort (ls):\n",
    "    for i in range (len(ls)):\n",
    "        for j in range (len(ls)-1):\n",
    "            if ls[j] > ls[j+1]:\n",
    "                ls[j], ls[j+1] = ls[j+1], ls[j]\n",
    "    return ls"
   ]
  },
  {
   "cell_type": "code",
   "execution_count": 6,
   "metadata": {},
   "outputs": [],
   "source": [
    "data_t_1 = [2, 0, 1, 5, 1, 2, 7]\n",
    "data_t_2 = [40, 25, 58, 1, 25, 877, 51, 968, 11, 0, 1 ,-1, 5, -10]\n",
    "data_test_b_3 = [3, 1, 7, 20, 2, 6]"
   ]
  },
  {
   "cell_type": "code",
   "execution_count": 7,
   "metadata": {},
   "outputs": [
    {
     "data": {
      "text/plain": [
       "[-10, -1, 0, 1, 1, 5, 11, 25, 25, 40, 51, 58, 877, 968]"
      ]
     },
     "execution_count": 7,
     "metadata": {},
     "output_type": "execute_result"
    }
   ],
   "source": [
    "bubbleSort(data_t_2)"
   ]
  },
  {
   "cell_type": "code",
   "execution_count": 8,
   "metadata": {},
   "outputs": [
    {
     "data": {
      "text/plain": [
       "[1, 2, 3, 6, 7, 20]"
      ]
     },
     "execution_count": 8,
     "metadata": {},
     "output_type": "execute_result"
    }
   ],
   "source": [
    "bubbleSort(data_test_b_3)"
   ]
  },
  {
   "cell_type": "markdown",
   "metadata": {},
   "source": [
    "# Insertion Sorting"
   ]
  },
  {
   "cell_type": "code",
   "execution_count": 19,
   "metadata": {},
   "outputs": [],
   "source": [
    "def insertionSort(ls):\n",
    "    for i in range (len(ls)):\n",
    "        for j in range(i, 0, -1):\n",
    "            if ls[j] < ls[j-1]:\n",
    "                ls[j], ls[j-1] = ls[j-1] , ls[j]\n",
    "    return ls        "
   ]
  },
  {
   "cell_type": "code",
   "execution_count": 20,
   "metadata": {},
   "outputs": [],
   "source": [
    "data_test_1 = [4, 3, 2, 10, 12, 7, 5, 6]\n",
    "data_test_2 = [35, 51, 27, 85, 66, 23]\n",
    "data_test_geeks_for_geeks_1 = [7, 8, 5, 2, 4, 6, 3]\n",
    "data_test_geeks_for_geeks_2 = [4, 3, 2, 10, 12, 1, 5, 6]"
   ]
  },
  {
   "cell_type": "code",
   "execution_count": 21,
   "metadata": {},
   "outputs": [
    {
     "data": {
      "text/plain": [
       "[2, 3, 4, 5, 6, 7, 10, 12]"
      ]
     },
     "execution_count": 21,
     "metadata": {},
     "output_type": "execute_result"
    }
   ],
   "source": [
    "insertionSort(data_test_1)"
   ]
  },
  {
   "cell_type": "code",
   "execution_count": 22,
   "metadata": {},
   "outputs": [
    {
     "data": {
      "text/plain": [
       "[23, 27, 35, 51, 66, 85]"
      ]
     },
     "execution_count": 22,
     "metadata": {},
     "output_type": "execute_result"
    }
   ],
   "source": [
    "insertionSort(data_test_2)"
   ]
  },
  {
   "cell_type": "code",
   "execution_count": 23,
   "metadata": {},
   "outputs": [
    {
     "data": {
      "text/plain": [
       "[2, 3, 4, 5, 6, 7, 8]"
      ]
     },
     "execution_count": 23,
     "metadata": {},
     "output_type": "execute_result"
    }
   ],
   "source": [
    "insertionSort(data_test_geeks_for_geeks_1)"
   ]
  },
  {
   "cell_type": "code",
   "execution_count": 24,
   "metadata": {},
   "outputs": [
    {
     "data": {
      "text/plain": [
       "[1, 2, 3, 4, 5, 6, 10, 12]"
      ]
     },
     "execution_count": 24,
     "metadata": {},
     "output_type": "execute_result"
    }
   ],
   "source": [
    "insertionSort(data_test_geeks_for_geeks_2)"
   ]
  },
  {
   "cell_type": "markdown",
   "metadata": {},
   "source": [
    "# Quick Sort"
   ]
  },
  {
   "cell_type": "code",
   "execution_count": 1,
   "metadata": {},
   "outputs": [],
   "source": [
    "def quickSort(ls, low, high):\n",
    "    if len(ls) == 1:\n",
    "        return ls\n",
    "    \n",
    "    if low < high:\n",
    "        pivot = partition(ls, low, high)\n",
    "        quickSort(ls, low, pivot - 1)\n",
    "        quickSort(ls, pivot + 1, high)"
   ]
  },
  {
   "cell_type": "code",
   "execution_count": 2,
   "metadata": {},
   "outputs": [],
   "source": [
    "def partition(ls, low, high):  \n",
    "    i = low - 1\n",
    "    pivot = ls[high]\n",
    "    \n",
    "    for j in range(low, high):\n",
    "        if ls[j] <= pivot:\n",
    "            i += 1\n",
    "            ls[i], ls[j] = ls[j], ls[i]\n",
    "    ls[i + 1], ls[high] = ls[high], ls[i + 1]\n",
    "    return i + 1"
   ]
  },
  {
   "cell_type": "code",
   "execution_count": 3,
   "metadata": {},
   "outputs": [
    {
     "data": {
      "text/plain": [
       "[23, 27, 35, 51, 66, 85]"
      ]
     },
     "execution_count": 3,
     "metadata": {},
     "output_type": "execute_result"
    }
   ],
   "source": [
    "data_for_quick_sort= [35, 51, 27, 85, 66, 23]\n",
    "quickSort(data_for_quick_sort, 0, len(data_for_quick_sort)-1)\n",
    "\n",
    "data_for_quick_sort"
   ]
  }
 ],
 "metadata": {
  "kernelspec": {
   "display_name": "Python 3",
   "language": "python",
   "name": "python3"
  },
  "language_info": {
   "codemirror_mode": {
    "name": "ipython",
    "version": 3
   },
   "file_extension": ".py",
   "mimetype": "text/x-python",
   "name": "python",
   "nbconvert_exporter": "python",
   "pygments_lexer": "ipython3",
   "version": "3.8.3"
  }
 },
 "nbformat": 4,
 "nbformat_minor": 4
}
